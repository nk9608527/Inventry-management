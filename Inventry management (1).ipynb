{
 "cells": [
  {
   "cell_type": "code",
   "execution_count": 7,
   "id": "f36b92fb",
   "metadata": {},
   "outputs": [
    {
     "name": "stdout",
     "output_type": "stream",
     "text": [
      "Enter the name : ranjit kumar\n",
      "Enter the Roll number : 04\n",
      "Enter the marks of Hindi : 89\n",
      "Enter the marks of English : 90\n",
      "Enter the marks of Maths : 98\n"
     ]
    }
   ],
   "source": [
    "fd = open('Student record.txt','a')\n",
    "\n",
    "\n",
    "name = input('Enter the name : ')\n",
    "roll_no = int(input('Enter the Roll number : '))\n",
    "hindi = int(input('Enter the marks of Hindi : '))\n",
    "eng = int(input('Enter the marks of English : '))\n",
    "maths = int(input('Enter the marks of Maths : '))\n",
    "\n",
    "data = name + \",\" + str(roll_no) +\",\"+str(hindi)+\",\"+str(eng)+','+str(maths)+'\\n'\n",
    "\n",
    "fd.write(data)\n",
    "\n",
    "fd.close()\n"
   ]
  },
  {
   "cell_type": "code",
   "execution_count": 23,
   "id": "96408f99",
   "metadata": {},
   "outputs": [
    {
     "data": {
      "text/plain": [
       "'r'"
      ]
     },
     "execution_count": 23,
     "metadata": {},
     "output_type": "execute_result"
    }
   ],
   "source": [
    "data[0]"
   ]
  },
  {
   "cell_type": "code",
   "execution_count": 9,
   "id": "ac366da4",
   "metadata": {},
   "outputs": [
    {
     "name": "stdout",
     "output_type": "stream",
     "text": [
      "Name of the student :  ranjit kumar\n",
      "Roll No. of the student : 4\n",
      "Marks of hindi : 89\n",
      "Marks of english :  90\n",
      "Marks of maths :  98\n",
      "Total marks obtain by  ranjit kumar :  277\n",
      "percentage : 92.33333333333333 %\n"
     ]
    }
   ],
   "source": [
    "print('Name of the student : ' , name)\n",
    "print('Roll No. of the student :' , roll_no)\n",
    "print('Marks of hindi :', hindi)\n",
    "print('Marks of english : ', eng)\n",
    "print('Marks of maths : ', maths)\n",
    "print('Total marks obtain by ',name, ': ',hindi + eng + maths)\n",
    "print('percentage :',(hindi+eng+maths)/3,'%')\n"
   ]
  },
  {
   "cell_type": "code",
   "execution_count": 20,
   "id": "05a347b6",
   "metadata": {},
   "outputs": [],
   "source": [
    "fd = open('Student record.txt','r')\n",
    "txt = fd.read()\n",
    "fd.close()\n",
    "\n"
   ]
  },
  {
   "cell_type": "code",
   "execution_count": 22,
   "id": "f93dbceb",
   "metadata": {},
   "outputs": [
    {
     "data": {
      "text/plain": [
       "['Nitesh Kumar,1,80,85,87',\n",
       " 'Rahul kumar,2,67,78,98',\n",
       " 'Suresh kumar,3,89,90,98',\n",
       " 'ranjit kumar,4,89,90,98',\n",
       " '']"
      ]
     },
     "execution_count": 22,
     "metadata": {},
     "output_type": "execute_result"
    }
   ],
   "source": [
    "txt.split('\\n')"
   ]
  },
  {
   "cell_type": "code",
   "execution_count": null,
   "id": "ef54cc3b",
   "metadata": {},
   "outputs": [],
   "source": []
  }
 ],
 "metadata": {
  "kernelspec": {
   "display_name": "Python 3",
   "language": "python",
   "name": "python3"
  },
  "language_info": {
   "codemirror_mode": {
    "name": "ipython",
    "version": 3
   },
   "file_extension": ".py",
   "mimetype": "text/x-python",
   "name": "python",
   "nbconvert_exporter": "python",
   "pygments_lexer": "ipython3",
   "version": "3.8.8"
  }
 },
 "nbformat": 4,
 "nbformat_minor": 5
}
